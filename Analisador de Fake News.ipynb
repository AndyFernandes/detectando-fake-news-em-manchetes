{
 "cells": [
  {
   "cell_type": "markdown",
   "metadata": {},
   "source": [
    "# Analisador de Fake News\n",
    "\n",
    "\n",
    "## Problemática\n",
    "O atual cenário político-social mundial tem se mostrado fortemente impactado pela **disseminação de Fake News**, as quais vem ganhando bastante **notoriedade com o crescente uso de redes sociais** e divulgação das mesmas nesses meios.\n",
    "\n",
    "Visto que as fakes news **acabam servindo como um meio de alienar a população**, o presente notebook possui o objetivo de **elaborar um modelo que possa classificar se determinada notícia é verdadeira ou falsa**, consistindo **ao todo em 4009 registros de notícias**, sendo 2137 notícias falsas e 1872 notícias verdadeiras.\n",
    "\n",
    "Aqui utilizaremos os seguintes algoritmos de aprendizagem de máquina para elaboração do nosso modelo:\n",
    "> - Regressão Logística\n",
    "> - KNN\n",
    "> - Análise Discriminante Gaussiano\n",
    "> - Árvore de Decisão\n",
    "> - SVM\n",
    "> - Random Forest\n",
    "\n",
    "\n",
    "## Fonte dos Dados\n",
    "O dataset utilizado para este problema foi retirado do [Kaggle]( https://www.kaggle.com/jruvika/fake-news-detection), fruto de um web crawler de diferentes fontes americanas, consiste em **4009 registros de notícias**, sendo **2137 notícias falsas** e **1872 notícias verdadeiras**.\n",
    "\n",
    "## Sumário\n",
    "#### 1. Importações\n",
    "#### 2. Leitura dos Dados\n",
    "#### 3. Limpeza e Transformações dos Dados\n",
    "#### 4. Redução de Dimensionalidade dos Dados\n",
    "#### 5. Visualizações dos dados\n",
    "#### 6. Avaliação dos Modelos\n",
    "#### 7. Avaliação de Resultados e Conclusão"
   ]
  },
  {
   "cell_type": "markdown",
   "metadata": {},
   "source": [
    "# 1. Importações"
   ]
  },
  {
   "cell_type": "code",
   "execution_count": 18,
   "metadata": {
    "scrolled": true
   },
   "outputs": [
    {
     "name": "stdout",
     "output_type": "stream",
     "text": [
      "[nltk_data] Downloading package wordnet to\n",
      "[nltk_data]     /Users/andrezafernandes/nltk_data...\n",
      "[nltk_data]   Package wordnet is already up-to-date!\n",
      "[nltk_data] Downloading package punkt to\n",
      "[nltk_data]     /Users/andrezafernandes/nltk_data...\n",
      "[nltk_data]   Package punkt is already up-to-date!\n",
      "[nltk_data] Downloading package stopwords to\n",
      "[nltk_data]     /Users/andrezafernandes/nltk_data...\n",
      "[nltk_data]   Package stopwords is already up-to-date!\n"
     ]
    }
   ],
   "source": [
    "import numpy as np\n",
    "import pandas as pd\n",
    "import warnings\n",
    "import seaborn as sb\n",
    "from statistics import mean\n",
    "from scipy.linalg import svd \n",
    "from math import log, pi, sqrt\n",
    "import matplotlib.pyplot as plt\n",
    "from operator import itemgetter\n",
    "%matplotlib inline\n",
    "\n",
    "# Tratamento do Texto\n",
    "from textblob import TextBlob, Word\n",
    "import nltk\n",
    "from nltk.corpus import stopwords\n",
    "from wordcloud import WordCloud\n",
    "from scipy.linalg import svd \n",
    "from sklearn import linear_model, datasets, svm, metrics\n",
    "from scipy.stats import multivariate_normal\n",
    "from sklearn.metrics import accuracy_score, classification_report\n",
    "from sklearn.preprocessing import MinMaxScaler\n",
    "from sklearn.feature_extraction.text import CountVectorizer\n",
    "from sklearn.model_selection import train_test_split, GridSearchCV, KFold, cross_val_score\n",
    "from sklearn.preprocessing import MinMaxScaler\n",
    "from sklearn.metrics import confusion_matrix\n",
    "\n",
    "from sklearn.naive_bayes import GaussianNB\n",
    "from sklearn.tree import DecisionTreeClassifier, export_graphviz\n",
    "from sklearn.neighbors import DistanceMetric, KNeighborsClassifier\n",
    "from sklearn.neural_network import MLPClassifier\n",
    "from sklearn.ensemble import RandomForestClassifier\n",
    "from modelos import distance_euclidian, distance_manhattan, fitAD, fitAGD, fitRF, fitRL, fitSVM, getClasses, predict1AGD, predict1KNN, predictAD, predictAGD, predictKNN, predictRF, predictRL, predictSVM, sigmoide \n",
    "nltk.download('wordnet')\n",
    "nltk.download('punkt')\n",
    "nltk.download('stopwords')\n",
    "stop = stopwords.words('english')\n",
    "warnings.filterwarnings(\"ignore\")\n",
    "np.random.seed(12345)"
   ]
  },
  {
   "cell_type": "markdown",
   "metadata": {},
   "source": [
    "# 2. Leitura dos Dados"
   ]
  },
  {
   "cell_type": "code",
   "execution_count": 2,
   "metadata": {},
   "outputs": [
    {
     "data": {
      "text/html": [
       "<div>\n",
       "<style scoped>\n",
       "    .dataframe tbody tr th:only-of-type {\n",
       "        vertical-align: middle;\n",
       "    }\n",
       "\n",
       "    .dataframe tbody tr th {\n",
       "        vertical-align: top;\n",
       "    }\n",
       "\n",
       "    .dataframe thead th {\n",
       "        text-align: right;\n",
       "    }\n",
       "</style>\n",
       "<table border=\"1\" class=\"dataframe\">\n",
       "  <thead>\n",
       "    <tr style=\"text-align: right;\">\n",
       "      <th></th>\n",
       "      <th>URLs</th>\n",
       "      <th>Headline</th>\n",
       "      <th>Body</th>\n",
       "      <th>Label</th>\n",
       "    </tr>\n",
       "  </thead>\n",
       "  <tbody>\n",
       "    <tr>\n",
       "      <th>0</th>\n",
       "      <td>http://www.bbc.com/news/world-us-canada-414191...</td>\n",
       "      <td>Four ways Bob Corker skewered Donald Trump</td>\n",
       "      <td>Image copyright Getty Images\\nOn Sunday mornin...</td>\n",
       "      <td>1</td>\n",
       "    </tr>\n",
       "    <tr>\n",
       "      <th>1</th>\n",
       "      <td>https://www.reuters.com/article/us-filmfestiva...</td>\n",
       "      <td>Linklater's war veteran comedy speaks to moder...</td>\n",
       "      <td>LONDON (Reuters) - “Last Flag Flying”, a comed...</td>\n",
       "      <td>1</td>\n",
       "    </tr>\n",
       "    <tr>\n",
       "      <th>2</th>\n",
       "      <td>https://www.nytimes.com/2017/10/09/us/politics...</td>\n",
       "      <td>Trump’s Fight With Corker Jeopardizes His Legi...</td>\n",
       "      <td>The feud broke into public view last week when...</td>\n",
       "      <td>1</td>\n",
       "    </tr>\n",
       "    <tr>\n",
       "      <th>3</th>\n",
       "      <td>https://www.reuters.com/article/us-mexico-oil-...</td>\n",
       "      <td>Egypt's Cheiron wins tie-up with Pemex for Mex...</td>\n",
       "      <td>MEXICO CITY (Reuters) - Egypt’s Cheiron Holdin...</td>\n",
       "      <td>1</td>\n",
       "    </tr>\n",
       "    <tr>\n",
       "      <th>4</th>\n",
       "      <td>http://www.cnn.com/videos/cnnmoney/2017/10/08/...</td>\n",
       "      <td>Jason Aldean opens 'SNL' with Vegas tribute</td>\n",
       "      <td>Country singer Jason Aldean, who was performin...</td>\n",
       "      <td>1</td>\n",
       "    </tr>\n",
       "  </tbody>\n",
       "</table>\n",
       "</div>"
      ],
      "text/plain": [
       "                                                URLs  \\\n",
       "0  http://www.bbc.com/news/world-us-canada-414191...   \n",
       "1  https://www.reuters.com/article/us-filmfestiva...   \n",
       "2  https://www.nytimes.com/2017/10/09/us/politics...   \n",
       "3  https://www.reuters.com/article/us-mexico-oil-...   \n",
       "4  http://www.cnn.com/videos/cnnmoney/2017/10/08/...   \n",
       "\n",
       "                                            Headline  \\\n",
       "0         Four ways Bob Corker skewered Donald Trump   \n",
       "1  Linklater's war veteran comedy speaks to moder...   \n",
       "2  Trump’s Fight With Corker Jeopardizes His Legi...   \n",
       "3  Egypt's Cheiron wins tie-up with Pemex for Mex...   \n",
       "4        Jason Aldean opens 'SNL' with Vegas tribute   \n",
       "\n",
       "                                                Body  Label  \n",
       "0  Image copyright Getty Images\\nOn Sunday mornin...      1  \n",
       "1  LONDON (Reuters) - “Last Flag Flying”, a comed...      1  \n",
       "2  The feud broke into public view last week when...      1  \n",
       "3  MEXICO CITY (Reuters) - Egypt’s Cheiron Holdin...      1  \n",
       "4  Country singer Jason Aldean, who was performin...      1  "
      ]
     },
     "execution_count": 2,
     "metadata": {},
     "output_type": "execute_result"
    }
   ],
   "source": [
    "dataset = pd.read_csv(\"data/data.csv\") # será utilizado para computar coisas nas visualizações\n",
    "dataset['Body'] = dataset['Body'].astype(str) \n",
    "data = dataset # será limpado e utilizado nos modelos\n",
    "data.head()"
   ]
  },
  {
   "cell_type": "markdown",
   "metadata": {},
   "source": [
    "# 3. Limpeza dos Dados"
   ]
  },
  {
   "cell_type": "code",
   "execution_count": 3,
   "metadata": {},
   "outputs": [
    {
     "data": {
      "text/html": [
       "<div>\n",
       "<style scoped>\n",
       "    .dataframe tbody tr th:only-of-type {\n",
       "        vertical-align: middle;\n",
       "    }\n",
       "\n",
       "    .dataframe tbody tr th {\n",
       "        vertical-align: top;\n",
       "    }\n",
       "\n",
       "    .dataframe thead th {\n",
       "        text-align: right;\n",
       "    }\n",
       "</style>\n",
       "<table border=\"1\" class=\"dataframe\">\n",
       "  <thead>\n",
       "    <tr style=\"text-align: right;\">\n",
       "      <th></th>\n",
       "      <th>URLs</th>\n",
       "      <th>Headline</th>\n",
       "      <th>Body</th>\n",
       "      <th>Label</th>\n",
       "    </tr>\n",
       "  </thead>\n",
       "  <tbody>\n",
       "    <tr>\n",
       "      <th>0</th>\n",
       "      <td>http://www.bbc.com/news/world-us-canada-414191...</td>\n",
       "      <td>four way bob corker skewered donald</td>\n",
       "      <td>image copyright getty image sunday morning don...</td>\n",
       "      <td>1</td>\n",
       "    </tr>\n",
       "    <tr>\n",
       "      <th>1</th>\n",
       "      <td>https://www.reuters.com/article/us-filmfestiva...</td>\n",
       "      <td>linklaters war veteran comedy speaks modern am...</td>\n",
       "      <td>london reuters last flag flying comedydrama vi...</td>\n",
       "      <td>1</td>\n",
       "    </tr>\n",
       "    <tr>\n",
       "      <th>2</th>\n",
       "      <td>https://www.nytimes.com/2017/10/09/us/politics...</td>\n",
       "      <td>trump fight corker jeopardizes legislative agenda</td>\n",
       "      <td>feud broke public view last week mr corker mr ...</td>\n",
       "      <td>1</td>\n",
       "    </tr>\n",
       "    <tr>\n",
       "      <th>3</th>\n",
       "      <td>https://www.reuters.com/article/us-mexico-oil-...</td>\n",
       "      <td>egypt cheiron win tieup pemex mexican onshore ...</td>\n",
       "      <td>mexico city reuters egypt cheiron holding limi...</td>\n",
       "      <td>1</td>\n",
       "    </tr>\n",
       "    <tr>\n",
       "      <th>4</th>\n",
       "      <td>http://www.cnn.com/videos/cnnmoney/2017/10/08/...</td>\n",
       "      <td>jason aldean open snl tribute</td>\n",
       "      <td>country singer jason aldean performing la vega...</td>\n",
       "      <td>1</td>\n",
       "    </tr>\n",
       "  </tbody>\n",
       "</table>\n",
       "</div>"
      ],
      "text/plain": [
       "                                                URLs  \\\n",
       "0  http://www.bbc.com/news/world-us-canada-414191...   \n",
       "1  https://www.reuters.com/article/us-filmfestiva...   \n",
       "2  https://www.nytimes.com/2017/10/09/us/politics...   \n",
       "3  https://www.reuters.com/article/us-mexico-oil-...   \n",
       "4  http://www.cnn.com/videos/cnnmoney/2017/10/08/...   \n",
       "\n",
       "                                            Headline  \\\n",
       "0                four way bob corker skewered donald   \n",
       "1  linklaters war veteran comedy speaks modern am...   \n",
       "2  trump fight corker jeopardizes legislative agenda   \n",
       "3  egypt cheiron win tieup pemex mexican onshore ...   \n",
       "4                      jason aldean open snl tribute   \n",
       "\n",
       "                                                Body  Label  \n",
       "0  image copyright getty image sunday morning don...      1  \n",
       "1  london reuters last flag flying comedydrama vi...      1  \n",
       "2  feud broke public view last week mr corker mr ...      1  \n",
       "3  mexico city reuters egypt cheiron holding limi...      1  \n",
       "4  country singer jason aldean performing la vega...      1  "
      ]
     },
     "execution_count": 3,
     "metadata": {},
     "output_type": "execute_result"
    }
   ],
   "source": [
    "# Deixar tudo em lower case\n",
    "data['Headline'] = data['Headline'].apply(lambda x: \" \".join(x.lower() for x in x.split()))\n",
    "data['Body'] = data['Body'].apply(lambda x: \" \".join(x.lower() for x in str(x).split()))\n",
    "# Removendo pontuação\n",
    "data['Headline'] = data['Headline'].str.replace('[^\\w\\s]','')\n",
    "data['Body'] = data['Body'].str.replace('[^\\w\\s]','')\n",
    "# Removendo stopwords\n",
    "data['Headline'] = data['Headline'].apply(lambda x: \" \".join(x for x in x.split() if x not in stop))\n",
    "data['Body'] = data['Body'].apply(lambda x: \" \".join(x for x in str(x).split() if str(x) not in stop))\n",
    "# 10 Palavras mais frequentes e menos frequentes\n",
    "freqHeadline = pd.Series(' '.join(data['Headline']).split()).value_counts()[:10]\n",
    "freqBody = pd.Series(' '.join(data['Body']).split()).value_counts()[:10]\n",
    "rareHead = pd.Series(' '.join(data['Headline']).split()).value_counts()[-10:]\n",
    "rareBody = pd.Series(' '.join(data['Body']).split()).value_counts()[-10:]\n",
    "# Remoção das palavras raras e frequentes\n",
    "freqHeadline = list(freqHeadline.index)\n",
    "freqBody = list(freqBody.index)\n",
    "data['Headline'] = data['Headline'].apply(lambda x: \" \".join(x for x in x.split() if x not in freqHeadline))\n",
    "data['Body'] = data['Body'].apply(lambda x: \" \".join(x for x in x.split() if x not in freqBody))\n",
    "data['Headline'] = data['Headline'].apply(lambda x: \" \".join(x for x in x.split() if x not in rareHead))\n",
    "data['Body'] = data['Body'].apply(lambda x: \" \".join(x for x in x.split() if x not in rareBody))\n",
    "# Lemmatization. Extrai o núcleo/root da palavra\n",
    "data['Headline'] = data['Headline'].apply(lambda x: \" \".join([Word(word).lemmatize() for word in x.split()]))\n",
    "data['Body'] = data['Body'].apply(lambda x: \" \".join([Word(word).lemmatize() for word in x.split()]))\n",
    "data.head()"
   ]
  },
  {
   "cell_type": "code",
   "execution_count": 4,
   "metadata": {},
   "outputs": [
    {
     "name": "stdout",
     "output_type": "stream",
     "text": [
      "Tamanho:  (4009, 6633)\n"
     ]
    },
    {
     "data": {
      "text/html": [
       "<div>\n",
       "<style scoped>\n",
       "    .dataframe tbody tr th:only-of-type {\n",
       "        vertical-align: middle;\n",
       "    }\n",
       "\n",
       "    .dataframe tbody tr th {\n",
       "        vertical-align: top;\n",
       "    }\n",
       "\n",
       "    .dataframe thead th {\n",
       "        text-align: right;\n",
       "    }\n",
       "</style>\n",
       "<table border=\"1\" class=\"dataframe\">\n",
       "  <thead>\n",
       "    <tr style=\"text-align: right;\">\n",
       "      <th></th>\n",
       "      <th>four</th>\n",
       "      <th>way</th>\n",
       "      <th>bob</th>\n",
       "      <th>corker</th>\n",
       "      <th>skewered</th>\n",
       "      <th>donald</th>\n",
       "      <th>linklaters</th>\n",
       "      <th>war</th>\n",
       "      <th>veteran</th>\n",
       "      <th>comedy</th>\n",
       "      <th>...</th>\n",
       "      <th>tragic</th>\n",
       "      <th>hervé</th>\n",
       "      <th>leroux</th>\n",
       "      <th>léger</th>\n",
       "      <th>bandage</th>\n",
       "      <th>dress</th>\n",
       "      <th>30minute</th>\n",
       "      <th>100000</th>\n",
       "      <th>antiamerican</th>\n",
       "      <th>Label</th>\n",
       "    </tr>\n",
       "  </thead>\n",
       "  <tbody>\n",
       "    <tr>\n",
       "      <th>0</th>\n",
       "      <td>0</td>\n",
       "      <td>0</td>\n",
       "      <td>0</td>\n",
       "      <td>0</td>\n",
       "      <td>0</td>\n",
       "      <td>0</td>\n",
       "      <td>0</td>\n",
       "      <td>0</td>\n",
       "      <td>0</td>\n",
       "      <td>0</td>\n",
       "      <td>...</td>\n",
       "      <td>0</td>\n",
       "      <td>0</td>\n",
       "      <td>0</td>\n",
       "      <td>0</td>\n",
       "      <td>0</td>\n",
       "      <td>0</td>\n",
       "      <td>0</td>\n",
       "      <td>0</td>\n",
       "      <td>0</td>\n",
       "      <td>1</td>\n",
       "    </tr>\n",
       "    <tr>\n",
       "      <th>1</th>\n",
       "      <td>0</td>\n",
       "      <td>0</td>\n",
       "      <td>0</td>\n",
       "      <td>0</td>\n",
       "      <td>0</td>\n",
       "      <td>0</td>\n",
       "      <td>0</td>\n",
       "      <td>0</td>\n",
       "      <td>0</td>\n",
       "      <td>0</td>\n",
       "      <td>...</td>\n",
       "      <td>0</td>\n",
       "      <td>0</td>\n",
       "      <td>0</td>\n",
       "      <td>0</td>\n",
       "      <td>0</td>\n",
       "      <td>0</td>\n",
       "      <td>0</td>\n",
       "      <td>0</td>\n",
       "      <td>0</td>\n",
       "      <td>1</td>\n",
       "    </tr>\n",
       "    <tr>\n",
       "      <th>2</th>\n",
       "      <td>0</td>\n",
       "      <td>0</td>\n",
       "      <td>0</td>\n",
       "      <td>0</td>\n",
       "      <td>0</td>\n",
       "      <td>0</td>\n",
       "      <td>0</td>\n",
       "      <td>0</td>\n",
       "      <td>0</td>\n",
       "      <td>0</td>\n",
       "      <td>...</td>\n",
       "      <td>0</td>\n",
       "      <td>0</td>\n",
       "      <td>0</td>\n",
       "      <td>0</td>\n",
       "      <td>0</td>\n",
       "      <td>0</td>\n",
       "      <td>0</td>\n",
       "      <td>0</td>\n",
       "      <td>0</td>\n",
       "      <td>1</td>\n",
       "    </tr>\n",
       "    <tr>\n",
       "      <th>3</th>\n",
       "      <td>0</td>\n",
       "      <td>0</td>\n",
       "      <td>0</td>\n",
       "      <td>0</td>\n",
       "      <td>0</td>\n",
       "      <td>0</td>\n",
       "      <td>0</td>\n",
       "      <td>0</td>\n",
       "      <td>0</td>\n",
       "      <td>0</td>\n",
       "      <td>...</td>\n",
       "      <td>0</td>\n",
       "      <td>0</td>\n",
       "      <td>0</td>\n",
       "      <td>0</td>\n",
       "      <td>0</td>\n",
       "      <td>0</td>\n",
       "      <td>0</td>\n",
       "      <td>0</td>\n",
       "      <td>0</td>\n",
       "      <td>1</td>\n",
       "    </tr>\n",
       "    <tr>\n",
       "      <th>4</th>\n",
       "      <td>0</td>\n",
       "      <td>0</td>\n",
       "      <td>0</td>\n",
       "      <td>0</td>\n",
       "      <td>0</td>\n",
       "      <td>0</td>\n",
       "      <td>0</td>\n",
       "      <td>0</td>\n",
       "      <td>0</td>\n",
       "      <td>0</td>\n",
       "      <td>...</td>\n",
       "      <td>0</td>\n",
       "      <td>0</td>\n",
       "      <td>0</td>\n",
       "      <td>0</td>\n",
       "      <td>0</td>\n",
       "      <td>0</td>\n",
       "      <td>0</td>\n",
       "      <td>0</td>\n",
       "      <td>0</td>\n",
       "      <td>1</td>\n",
       "    </tr>\n",
       "  </tbody>\n",
       "</table>\n",
       "<p>5 rows × 6634 columns</p>\n",
       "</div>"
      ],
      "text/plain": [
       "   four  way  bob  corker  skewered  donald  linklaters  war  veteran  comedy  \\\n",
       "0     0    0    0       0         0       0           0    0        0       0   \n",
       "1     0    0    0       0         0       0           0    0        0       0   \n",
       "2     0    0    0       0         0       0           0    0        0       0   \n",
       "3     0    0    0       0         0       0           0    0        0       0   \n",
       "4     0    0    0       0         0       0           0    0        0       0   \n",
       "\n",
       "   ...  tragic  hervé  leroux  léger  bandage  dress  30minute  100000  \\\n",
       "0  ...       0      0       0      0        0      0         0       0   \n",
       "1  ...       0      0       0      0        0      0         0       0   \n",
       "2  ...       0      0       0      0        0      0         0       0   \n",
       "3  ...       0      0       0      0        0      0         0       0   \n",
       "4  ...       0      0       0      0        0      0         0       0   \n",
       "\n",
       "   antiamerican  Label  \n",
       "0             0      1  \n",
       "1             0      1  \n",
       "2             0      1  \n",
       "3             0      1  \n",
       "4             0      1  \n",
       "\n",
       "[5 rows x 6634 columns]"
      ]
     },
     "execution_count": 4,
     "metadata": {},
     "output_type": "execute_result"
    }
   ],
   "source": [
    "vectorizer = CountVectorizer()\n",
    "vectorizer.fit(data['Headline']) # tokenize and build vocabulary\n",
    "vector = vectorizer.transform(data['Headline']) # encode document\n",
    "print(\"Tamanho: \", vector.shape)\n",
    "head = [key for key in  vectorizer.vocabulary_]\n",
    "df = pd.DataFrame(vector.toarray(), columns = head)\n",
    "df['Label'] = data['Label']\n",
    "df.head()"
   ]
  },
  {
   "cell_type": "markdown",
   "metadata": {},
   "source": [
    "# 4. Redução da Dimensionalidade"
   ]
  },
  {
   "cell_type": "code",
   "execution_count": 5,
   "metadata": {},
   "outputs": [],
   "source": [
    "def fisher_score(x, y):\n",
    "    mean = np.mean(x, axis=0)\n",
    "    classes = np.unique(y)\n",
    "    sS = 0\n",
    "    sD = 0\n",
    "    Nk = []\n",
    "    \n",
    "    meanD = []\n",
    "    varD = []\n",
    "    \n",
    "    for k in classes:\n",
    "        elements = []\n",
    "        s = 0\n",
    "        for i in range(0, len(y)):\n",
    "            if(y[i] == k):\n",
    "                s += 1\n",
    "                elements.append(x[i])\n",
    "        meanD.append(np.mean(elements, axis=0))\n",
    "        varD.append(np.var(elements, axis=0))\n",
    "        Nk.append(s)\n",
    "    \n",
    "    for k in range(0, len(classes)):\n",
    "        sS += (Nk[k] * ((meanD[k] - mean)**2))\n",
    "        sD += (Nk[k] * varD[k])\n",
    "    return sS/sD\n",
    "\n",
    "def compute(x):\n",
    "    mean = np.mean(x, axis = 0)\n",
    "    cov = np.cov(np.transpose(x))\n",
    "\n",
    "    U, S, V = svd(cov)\n",
    "    S = np.diag(S)\n",
    "    M = U @ S @ V\n",
    "    P = np.transpose(U)\n",
    "    return {'S': S, 'U': U, 'V': V, 'M': M, 'P': P}\n",
    "\n",
    "def transform(x, rateVariance):\n",
    "    pca_result = compute(x)\n",
    "    \n",
    "    S = pca_result['S']\n",
    "    P = pca_result['P']\n",
    "    \n",
    " #   autovalores = np.sort([S[i][i] for i in range(len(S))])[::-1]\n",
    "    #varianciaExplicadaTot = np.sum(np.array(autovalores))\n",
    "    #varianceExpl = rateVarience*varianciaExplicadaTot\n",
    "\n",
    "    #matrizTransform = []\n",
    "    \n",
    "    matrizTransform = []\n",
    "    varianciaExplicadaTot = 0\n",
    "    varianceExpl = 0\n",
    "    autoValores = []\n",
    "    for i in range(0, S.shape[0]):\n",
    "        varianciaExplicadaTot += S[i,i]\n",
    "        autoValores.append(S[i,i])\n",
    "    varianceExpl = rateVariance *varianciaExplicadaTot\n",
    "\n",
    "    autoValOrdenados = np.sort(autoValores)\n",
    "    autoValOrdenados = autoValOrdenados[::-1]\n",
    "    \n",
    "    varianceAtual = 0\n",
    "    i = 0\n",
    "    while(varianceAtual<=varianceExpl and i<autoValOrdenados.shape[0]):\n",
    "        for j in range (0, len(autoValores)):\n",
    "            if(autoValOrdenados[i]==autoValores[j]):\n",
    "                matrizTransform.append(P[j])\n",
    "        varianceAtual += autoValOrdenados[i]\n",
    "        i += 1\n",
    "    return {'P': matrizTransform, 'Z':np.transpose(np.dot(matrizTransform, np.transpose(x)))}"
   ]
  },
  {
   "cell_type": "code",
   "execution_count": 7,
   "metadata": {},
   "outputs": [],
   "source": [
    "resultPCA = transform(df.values[:,0:-1], 0.9)"
   ]
  },
  {
   "cell_type": "code",
   "execution_count": 8,
   "metadata": {},
   "outputs": [],
   "source": [
    "dataPCA = np.hstack((resultPCA['Z'], df.values[:,-1][:,None]))\n",
    "matrizPCA = resultPCA['P']"
   ]
  },
  {
   "cell_type": "code",
   "execution_count": 9,
   "metadata": {},
   "outputs": [
    {
     "data": {
      "text/html": [
       "<div>\n",
       "<style scoped>\n",
       "    .dataframe tbody tr th:only-of-type {\n",
       "        vertical-align: middle;\n",
       "    }\n",
       "\n",
       "    .dataframe tbody tr th {\n",
       "        vertical-align: top;\n",
       "    }\n",
       "\n",
       "    .dataframe thead th {\n",
       "        text-align: right;\n",
       "    }\n",
       "</style>\n",
       "<table border=\"1\" class=\"dataframe\">\n",
       "  <thead>\n",
       "    <tr style=\"text-align: right;\">\n",
       "      <th></th>\n",
       "      <th>0</th>\n",
       "      <th>1</th>\n",
       "      <th>2</th>\n",
       "      <th>3</th>\n",
       "      <th>4</th>\n",
       "      <th>5</th>\n",
       "      <th>6</th>\n",
       "      <th>9</th>\n",
       "      <th>10</th>\n",
       "      <th>11</th>\n",
       "      <th>...</th>\n",
       "      <th>1383</th>\n",
       "      <th>1384</th>\n",
       "      <th>1391</th>\n",
       "      <th>1396</th>\n",
       "      <th>1400</th>\n",
       "      <th>1408</th>\n",
       "      <th>1417</th>\n",
       "      <th>1432</th>\n",
       "      <th>1442</th>\n",
       "      <th>1444</th>\n",
       "    </tr>\n",
       "  </thead>\n",
       "  <tbody>\n",
       "    <tr>\n",
       "      <th>0</th>\n",
       "      <td>0.025691</td>\n",
       "      <td>-0.024908</td>\n",
       "      <td>-0.033540</td>\n",
       "      <td>-0.035619</td>\n",
       "      <td>-0.019977</td>\n",
       "      <td>0.013167</td>\n",
       "      <td>-0.043963</td>\n",
       "      <td>0.347895</td>\n",
       "      <td>0.115632</td>\n",
       "      <td>0.209160</td>\n",
       "      <td>...</td>\n",
       "      <td>-0.002453</td>\n",
       "      <td>0.014982</td>\n",
       "      <td>-0.010635</td>\n",
       "      <td>-0.011932</td>\n",
       "      <td>0.004012</td>\n",
       "      <td>0.018688</td>\n",
       "      <td>-0.005193</td>\n",
       "      <td>-0.013681</td>\n",
       "      <td>-0.012413</td>\n",
       "      <td>1.0</td>\n",
       "    </tr>\n",
       "    <tr>\n",
       "      <th>1</th>\n",
       "      <td>-0.027007</td>\n",
       "      <td>-0.010447</td>\n",
       "      <td>-0.018250</td>\n",
       "      <td>0.002831</td>\n",
       "      <td>-0.020737</td>\n",
       "      <td>0.010318</td>\n",
       "      <td>-0.005501</td>\n",
       "      <td>0.087283</td>\n",
       "      <td>0.024936</td>\n",
       "      <td>-0.015843</td>\n",
       "      <td>...</td>\n",
       "      <td>0.025791</td>\n",
       "      <td>-0.009227</td>\n",
       "      <td>-0.049659</td>\n",
       "      <td>0.004075</td>\n",
       "      <td>0.018935</td>\n",
       "      <td>-0.031603</td>\n",
       "      <td>-0.034819</td>\n",
       "      <td>0.013850</td>\n",
       "      <td>-0.001363</td>\n",
       "      <td>1.0</td>\n",
       "    </tr>\n",
       "    <tr>\n",
       "      <th>2</th>\n",
       "      <td>-0.030487</td>\n",
       "      <td>-0.036350</td>\n",
       "      <td>-0.050334</td>\n",
       "      <td>0.012354</td>\n",
       "      <td>-0.020439</td>\n",
       "      <td>-0.060538</td>\n",
       "      <td>-0.003551</td>\n",
       "      <td>0.513610</td>\n",
       "      <td>0.173663</td>\n",
       "      <td>0.247610</td>\n",
       "      <td>...</td>\n",
       "      <td>-0.098727</td>\n",
       "      <td>0.026620</td>\n",
       "      <td>0.001825</td>\n",
       "      <td>-0.009915</td>\n",
       "      <td>-0.030626</td>\n",
       "      <td>-0.023182</td>\n",
       "      <td>0.024784</td>\n",
       "      <td>0.070085</td>\n",
       "      <td>-0.018685</td>\n",
       "      <td>1.0</td>\n",
       "    </tr>\n",
       "    <tr>\n",
       "      <th>3</th>\n",
       "      <td>0.748006</td>\n",
       "      <td>0.052074</td>\n",
       "      <td>0.001575</td>\n",
       "      <td>0.219412</td>\n",
       "      <td>-0.555058</td>\n",
       "      <td>-0.048646</td>\n",
       "      <td>0.136219</td>\n",
       "      <td>-0.171092</td>\n",
       "      <td>0.225037</td>\n",
       "      <td>0.103097</td>\n",
       "      <td>...</td>\n",
       "      <td>0.073038</td>\n",
       "      <td>-0.009118</td>\n",
       "      <td>-0.015282</td>\n",
       "      <td>-0.012793</td>\n",
       "      <td>-0.037303</td>\n",
       "      <td>-0.027757</td>\n",
       "      <td>0.011163</td>\n",
       "      <td>-0.028900</td>\n",
       "      <td>0.011526</td>\n",
       "      <td>1.0</td>\n",
       "    </tr>\n",
       "    <tr>\n",
       "      <th>4</th>\n",
       "      <td>-0.017513</td>\n",
       "      <td>-0.019155</td>\n",
       "      <td>-0.030973</td>\n",
       "      <td>0.002875</td>\n",
       "      <td>-0.009002</td>\n",
       "      <td>-0.039691</td>\n",
       "      <td>0.032445</td>\n",
       "      <td>-0.058962</td>\n",
       "      <td>0.003108</td>\n",
       "      <td>-0.023746</td>\n",
       "      <td>...</td>\n",
       "      <td>0.003392</td>\n",
       "      <td>0.007264</td>\n",
       "      <td>-0.020214</td>\n",
       "      <td>-0.022187</td>\n",
       "      <td>0.004710</td>\n",
       "      <td>-0.000582</td>\n",
       "      <td>-0.006157</td>\n",
       "      <td>-0.028282</td>\n",
       "      <td>0.003698</td>\n",
       "      <td>1.0</td>\n",
       "    </tr>\n",
       "  </tbody>\n",
       "</table>\n",
       "<p>5 rows × 445 columns</p>\n",
       "</div>"
      ],
      "text/plain": [
       "       0         1         2         3         4         5         6     \\\n",
       "0  0.025691 -0.024908 -0.033540 -0.035619 -0.019977  0.013167 -0.043963   \n",
       "1 -0.027007 -0.010447 -0.018250  0.002831 -0.020737  0.010318 -0.005501   \n",
       "2 -0.030487 -0.036350 -0.050334  0.012354 -0.020439 -0.060538 -0.003551   \n",
       "3  0.748006  0.052074  0.001575  0.219412 -0.555058 -0.048646  0.136219   \n",
       "4 -0.017513 -0.019155 -0.030973  0.002875 -0.009002 -0.039691  0.032445   \n",
       "\n",
       "       9         10        11    ...      1383      1384      1391      1396  \\\n",
       "0  0.347895  0.115632  0.209160  ... -0.002453  0.014982 -0.010635 -0.011932   \n",
       "1  0.087283  0.024936 -0.015843  ...  0.025791 -0.009227 -0.049659  0.004075   \n",
       "2  0.513610  0.173663  0.247610  ... -0.098727  0.026620  0.001825 -0.009915   \n",
       "3 -0.171092  0.225037  0.103097  ...  0.073038 -0.009118 -0.015282 -0.012793   \n",
       "4 -0.058962  0.003108 -0.023746  ...  0.003392  0.007264 -0.020214 -0.022187   \n",
       "\n",
       "       1400      1408      1417      1432      1442  1444  \n",
       "0  0.004012  0.018688 -0.005193 -0.013681 -0.012413   1.0  \n",
       "1  0.018935 -0.031603 -0.034819  0.013850 -0.001363   1.0  \n",
       "2 -0.030626 -0.023182  0.024784  0.070085 -0.018685   1.0  \n",
       "3 -0.037303 -0.027757  0.011163 -0.028900  0.011526   1.0  \n",
       "4  0.004710 -0.000582 -0.006157 -0.028282  0.003698   1.0  \n",
       "\n",
       "[5 rows x 445 columns]"
      ]
     },
     "execution_count": 9,
     "metadata": {},
     "output_type": "execute_result"
    }
   ],
   "source": [
    "fisher_scores = fisher_score(dataPCA[:,0:-1], dataPCA[:,-1])\n",
    "qnt = 1000 # quantas colunas quer dropar pelo fisher score\n",
    "indices = [] # armazena os indices dos menores valores do fisher_score -> que é o que vamos dropar\n",
    "for i in range(qnt): # faz o processamento de armazenar os indices dos menores valores\n",
    "    indice = np.argmin(fisher_scores)\n",
    "    fisher_scores[indice] = 10000\n",
    "    indices.append(indice)\n",
    "\n",
    "dataPCA = pd.DataFrame(dataPCA)\n",
    "data_fisher = dataPCA.drop([dataPCA.columns[i] for i in indices] ,  axis='columns')\n",
    "data_fisher.head()\n",
    "#classes, ocorrencs = np.unique(indices, return_counts=True)\n",
    "#dict(zip(classes, ocorrencs))"
   ]
  },
  {
   "cell_type": "markdown",
   "metadata": {},
   "source": [
    "# 5. Visualização e Análise dos dados\n",
    "\n",
    "0. dataset.describe()\n",
    "0. dataset.corr()\n",
    "\n",
    "0. WordCloud\n",
    "\n",
    "1. Palavras mais frequentes por classe - sem stopwords - (grafico de barras)\n",
    "2. Palavras menos frequentes por classe - sem stopwords - (grafico de barras)\n",
    "\n"
   ]
  },
  {
   "cell_type": "code",
   "execution_count": 9,
   "metadata": {},
   "outputs": [],
   "source": [
    "#usar dataset pós-limpeza\n",
    "dataset = data\n",
    "\n",
    "titulosFake = \"\"\n",
    "titulosReal = \"\"\n",
    "for i in range(0, dataset.shape[0]):\n",
    "    if (dataset['Label'][i]==1):\n",
    "        titulosFake += dataset['Headline'][i]+\" \"\n",
    "    else:\n",
    "        titulosReal += dataset['Headline'][i]+\" \""
   ]
  },
  {
   "cell_type": "code",
   "execution_count": 10,
   "metadata": {},
   "outputs": [],
   "source": [
    "wordsFake = titulosFake.split()\n",
    "wordsReal = titulosReal.split()\n",
    "\n",
    "distinctFake = []\n",
    "distinctReal = []\n",
    "for i in wordsFake:\n",
    "    if i not in distinctFake:\n",
    "        distinctFake.append(i)\n",
    "for i in wordsReal:\n",
    "    if i not in distinctReal:\n",
    "        distinctReal.append(i)\n",
    "\n",
    "\n",
    "countFake = []\n",
    "countReal = []\n",
    "for i in distinctFake:\n",
    "    cont = 0\n",
    "    for j in wordsFake:\n",
    "        if (i==j):\n",
    "            cont += 1\n",
    "    countFake.append(cont)\n",
    "for i in distinctReal:\n",
    "    cont = 0\n",
    "    for j in wordsReal:\n",
    "        if (i==j):\n",
    "            cont += 1\n",
    "    countReal.append(cont)\n",
    "    \n",
    "dictFake = {}\n",
    "for i in range(0, len(distinctFake)):\n",
    "    dictFake[distinctFake[i]] =  countFake[i]\n",
    "    \n",
    "dictFake = sorted(dictFake.items(), key=itemgetter(1), reverse=True)\n",
    "\n",
    "dictReal = {}\n",
    "for i in range(0, len(distinctReal)):\n",
    "    dictReal[distinctReal[i]] =  countReal[i]\n",
    "\n",
    "dictReal = sorted(dictReal.items(), key=itemgetter(1), reverse=True)\n",
    "\n",
    "wordsFake = []\n",
    "wordsReal = []\n",
    "contFake = []\n",
    "contReal = []\n",
    "for i in range(0, 15):\n",
    "    wordsFake.append(dictFake[i][0])\n",
    "    contFake.append(dictFake[i][1])\n",
    "    wordsReal.append(dictReal[i][0])\n",
    "    contReal.append(dictReal[i][1])"
   ]
  },
  {
   "cell_type": "markdown",
   "metadata": {},
   "source": [
    "## 5.1. WordCloud Fake News"
   ]
  },
  {
   "cell_type": "code",
   "execution_count": null,
   "metadata": {},
   "outputs": [],
   "source": [
    "wordcloud = WordCloud(max_font_size=100).generate(titulosFake)\n",
    "plt.figure(figsize=(12,8)) \n",
    "plt.imshow(wordcloud, interpolation=\"bilinear\")\n",
    "plt.axis(\"off\")\n",
    "plt.savefig('WordCloudtMostFrequencyFakeNews.png')\n",
    "plt.show()\n"
   ]
  },
  {
   "cell_type": "code",
   "execution_count": null,
   "metadata": {},
   "outputs": [],
   "source": [
    "plt.figure(figsize=(12,8)) \n",
    "plt.grid(color='grey', linestyle='-', linewidth=0.25, alpha=0.5)\n",
    "#plt.bar(wordsFake, contFake, color=\"blue\")\n",
    "rects = plt.bar(wordsFake, contFake, align='center', alpha=0.5)\n",
    "plt.ylabel('Number')\n",
    "plt.title('Most popular words in Fake News')\n",
    "for bar in rects:\n",
    "    yval = bar.get_height()\n",
    "    plt.text(bar.get_x(), yval+1, yval, fontsize=12)\n",
    "plt.savefig('BarChartMostFrequencyFakeNews.png')\n",
    "plt.show()\n"
   ]
  },
  {
   "cell_type": "markdown",
   "metadata": {},
   "source": [
    "## 5.2. WordCloud Notícias Reais"
   ]
  },
  {
   "cell_type": "code",
   "execution_count": null,
   "metadata": {},
   "outputs": [],
   "source": [
    "wordcloud = WordCloud(max_font_size=100).generate(titulosReal)\n",
    "plt.figure(figsize=(12,8)) \n",
    "plt.imshow(wordcloud, interpolation=\"bilinear\")\n",
    "plt.axis(\"off\")\n",
    "plt.savefig('WordCloudtMostFrequencyRealNews.png')\n",
    "plt.show()\n"
   ]
  },
  {
   "cell_type": "code",
   "execution_count": null,
   "metadata": {},
   "outputs": [],
   "source": [
    "#plt.bar(wordsReal, contReal, color=\"red\")\n",
    "\n",
    "plt.figure(figsize=(12,8)) \n",
    "plt.grid(color='grey', linestyle='-', linewidth=0.25, alpha=0.5)\n",
    "#plt.bar(wordsFake, contFake, color=\"blue\")\n",
    "rects = plt.bar(wordsReal, contReal, align='center', alpha=0.5, color = \"orange\")\n",
    "plt.ylabel('Number')\n",
    "plt.title('Most popular words in True News')\n",
    "for bar in rects:\n",
    "    yval = bar.get_height()\n",
    "    plt.text(bar.get_x(), yval+1, yval, fontsize=12)\n",
    "plt.savefig('BarChartMostFrequencyRealNews.png')\n",
    "plt.show()\n"
   ]
  },
  {
   "cell_type": "markdown",
   "metadata": {},
   "source": [
    "# 6. Avaliação de Métodos"
   ]
  },
  {
   "cell_type": "code",
   "execution_count": 13,
   "metadata": {},
   "outputs": [],
   "source": [
    "# Split dos Dados\n",
    "# atribuindo X com as features e y com os valores de classe\n",
    "X = data_fisher.values[:,:-1]\n",
    "Y = data_fisher.values[:,-1]\n",
    "x_train, x_test, y_train, y_test = train_test_split(X, Y, test_size = 0.25)"
   ]
  },
  {
   "cell_type": "code",
   "execution_count": 14,
   "metadata": {},
   "outputs": [],
   "source": [
    "def acc(y_test, results):\n",
    "    tot = [1 for x,z in zip(y_test,results) if x == z]\n",
    "    return (np.sum(np.array(tot))/len(y_test))*100"
   ]
  },
  {
   "cell_type": "markdown",
   "metadata": {},
   "source": [
    "## 6.1 Regressão Logística"
   ]
  },
  {
   "cell_type": "code",
   "execution_count": 24,
   "metadata": {},
   "outputs": [
    {
     "name": "stdout",
     "output_type": "stream",
     "text": [
      "[Regressão Logística] Treinando modelo...\n",
      "[Regressão Logística] Testando modelo...\n",
      "[Regressão Logística] Score\n"
     ]
    },
    {
     "data": {
      "text/plain": [
       "52.043868394815554"
      ]
     },
     "execution_count": 24,
     "metadata": {},
     "output_type": "execute_result"
    }
   ],
   "source": [
    "# atribuindo X com as features e y com os valores de classe\n",
    "y_pred = predictRL(fitRL(x_train, y_train, 1000, 0.001)[0], x_test)\n",
    "print(\"[Regressão Logística] Score\")\n",
    "acc(y_test, y_pred)"
   ]
  },
  {
   "cell_type": "code",
   "execution_count": 25,
   "metadata": {},
   "outputs": [
    {
     "name": "stdout",
     "output_type": "stream",
     "text": [
      "              precision    recall  f1-score   support\n",
      "\n",
      "         0.0       0.52      1.00      0.68       522\n",
      "         1.0       0.00      0.00      0.00       481\n",
      "\n",
      "    accuracy                           0.52      1003\n",
      "   macro avg       0.26      0.50      0.34      1003\n",
      "weighted avg       0.27      0.52      0.36      1003\n",
      "\n"
     ]
    }
   ],
   "source": [
    "print(classification_report(y_test, y_pred))"
   ]
  },
  {
   "cell_type": "code",
   "execution_count": 26,
   "metadata": {},
   "outputs": [
    {
     "data": {
      "image/png": "[encoded data removed]",
      "text/plain": [
       "<Figure size 1080x1080 with 2 Axes>"
      ]
     },
     "metadata": {},
     "output_type": "display_data"
    }
   ],
   "source": [
    "cm = confusion_matrix(y_test, y_pred)\n",
    "cm_df = pd.DataFrame(cm, index = np.unique(y_test), columns = np.unique(y_test))\n",
    "\n",
    "plt.figure(figsize=(15,15))\n",
    "sb.heatmap(cm_df, annot=True, annot_kws={\"size\": 12})\n",
    "plt.savefig('RegLog.png')"
   ]
  },
  {
   "cell_type": "markdown",
   "metadata": {},
   "source": [
    "## 6.2. Análise Discriminante Gaussiano"
   ]
  },
  {
   "cell_type": "code",
   "execution_count": 27,
   "metadata": {},
   "outputs": [
    {
     "name": "stdout",
     "output_type": "stream",
     "text": [
      "[Análise Discriminante Gaussiana] Treinando modelo...\n",
      "[Análise Discriminante Gaussiana] Testando modelo...\n",
      "[Análise Discriminante Gaussiano] Score\n"
     ]
    },
    {
     "data": {
      "text/plain": [
       "83.34995014955135"
      ]
     },
     "execution_count": 27,
     "metadata": {},
     "output_type": "execute_result"
    }
   ],
   "source": [
    "y_pred = predictAGD(fitAGD(x_train, y_train), x_test)\n",
    "print(\"[Análise Discriminante Gaussiano] Score\")\n",
    "acc(y_test, y_pred)"
   ]
  },
  {
   "cell_type": "code",
   "execution_count": 28,
   "metadata": {},
   "outputs": [
    {
     "name": "stdout",
     "output_type": "stream",
     "text": [
      "              precision    recall  f1-score   support\n",
      "\n",
      "         0.0       0.90      0.77      0.83       522\n",
      "         1.0       0.78      0.91      0.84       481\n",
      "\n",
      "    accuracy                           0.83      1003\n",
      "   macro avg       0.84      0.84      0.83      1003\n",
      "weighted avg       0.84      0.83      0.83      1003\n",
      "\n"
     ]
    }
   ],
   "source": [
    "print(classification_report(y_test, y_pred))"
   ]
  },
  {
   "cell_type": "code",
   "execution_count": 29,
   "metadata": {},
   "outputs": [
    {
     "data": {
      "image/png": "[encoded data removed]",
      "text/plain": [
       "<Figure size 1080x1080 with 2 Axes>"
      ]
     },
     "metadata": {},
     "output_type": "display_data"
    }
   ],
   "source": [
    "cm = confusion_matrix(y_test, y_pred)\n",
    "cm_df = pd.DataFrame(cm, index = np.unique(y_test), columns = np.unique(y_test))\n",
    "\n",
    "plt.figure(figsize=(15,15))\n",
    "sb.heatmap(cm_df, annot=True, annot_kws={\"size\": 12})\n",
    "plt.savefig('AGD.png')"
   ]
  },
  {
   "cell_type": "markdown",
   "metadata": {},
   "source": [
    "## 6.3. Árvore de Decisão"
   ]
  },
  {
   "cell_type": "code",
   "execution_count": 30,
   "metadata": {},
   "outputs": [
    {
     "name": "stdout",
     "output_type": "stream",
     "text": [
      "[Árvore de Decisão] Selecionando hiperparâmetros...\n",
      "[Árvore de Decisão] Treinando modelos...\n",
      "Parâmetros escolhidos para Árvore de Decisão:  {'criterion': 'entropy', 'max_depth': 49}\n",
      "[Árvore de Decisão] Testando modelos...\n",
      "[Árvore de Decisão] Score\n"
     ]
    },
    {
     "data": {
      "text/plain": [
       "74.67597208374876"
      ]
     },
     "execution_count": 30,
     "metadata": {},
     "output_type": "execute_result"
    }
   ],
   "source": [
    "y_pred = predictAD(fitAD(x_train, y_train, 'gini', 3), x_train, y_train, x_test)\n",
    "print(\"[Árvore de Decisão] Score\")\n",
    "acc(y_test, y_pred)\n"
   ]
  },
  {
   "cell_type": "code",
   "execution_count": 31,
   "metadata": {},
   "outputs": [
    {
     "name": "stdout",
     "output_type": "stream",
     "text": [
      "              precision    recall  f1-score   support\n",
      "\n",
      "         0.0       0.74      0.80      0.77       522\n",
      "         1.0       0.76      0.69      0.72       481\n",
      "\n",
      "    accuracy                           0.75      1003\n",
      "   macro avg       0.75      0.74      0.74      1003\n",
      "weighted avg       0.75      0.75      0.75      1003\n",
      "\n"
     ]
    }
   ],
   "source": [
    "print(classification_report(y_test, y_pred))"
   ]
  },
  {
   "cell_type": "code",
   "execution_count": 32,
   "metadata": {},
   "outputs": [
    {
     "data": {
      "image/png": "[encoded data removed]",
      "text/plain": [
       "<Figure size 1080x1080 with 2 Axes>"
      ]
     },
     "metadata": {},
     "output_type": "display_data"
    }
   ],
   "source": [
    "cm = confusion_matrix(y_test, y_pred)\n",
    "cm_df = pd.DataFrame(cm, index = np.unique(y_test), columns = np.unique(y_test))\n",
    "\n",
    "plt.figure(figsize=(15,15))\n",
    "sb.heatmap(cm_df, annot=True, annot_kws={\"size\": 12})\n",
    "plt.savefig('AD.png')"
   ]
  },
  {
   "cell_type": "markdown",
   "metadata": {},
   "source": [
    "## 6.4. SVM"
   ]
  },
  {
   "cell_type": "code",
   "execution_count": 35,
   "metadata": {},
   "outputs": [
    {
     "name": "stdout",
     "output_type": "stream",
     "text": [
      "[SVM] Selecionando hiperparâmetros...\n",
      "ô merda\n",
      "GridSearchCV(cv='warn', error_score='raise-deprecating',\n",
      "             estimator=SVC(C=1.0, cache_size=200, class_weight=None, coef0=0.0,\n",
      "                           decision_function_shape='ovr', degree=3,\n",
      "                           gamma='auto_deprecated', kernel='rbf', max_iter=-1,\n",
      "                           probability=False, random_state=None, shrinking=True,\n",
      "                           tol=0.001, verbose=False),\n",
      "             iid='warn', n_jobs=None,\n",
      "             param_grid=[{'C': array([3.1250e-02, 1.2500e-01...\n",
      "       3.2000e+01, 1.2800e+02, 5.1200e+02, 2.0480e+03, 8.1920e+03,\n",
      "       3.2768e+04]),\n",
      "                          'degree': array([2, 3, 4, 5]), 'kernel': ['poly']},\n",
      "                         {'C': array([3.1250e-02, 1.2500e-01, 5.0000e-01, 2.0000e+00, 8.0000e+00,\n",
      "       3.2000e+01, 1.2800e+02, 5.1200e+02, 2.0480e+03, 8.1920e+03,\n",
      "       3.2768e+04]),\n",
      "                          'kernel': ['linear']}],\n",
      "             pre_dispatch='2*n_jobs', refit=True, return_train_score=False,\n",
      "             scoring=None, verbose=0)\n",
      "ô merda\n",
      "[SVM] Treinando Modelo...\n",
      "[SVM] Hiperparâmetros escolhidos para SVM:  {'C': 8.0, 'gamma': 0.125, 'kernel': 'rbf'}\n",
      "[SVM] Testando Modelo...\n",
      "[SVM] Score\n"
     ]
    },
    {
     "data": {
      "text/plain": [
       "88.63409770687937"
      ]
     },
     "execution_count": 35,
     "metadata": {},
     "output_type": "execute_result"
    }
   ],
   "source": [
    "y_pred = predictSVM(fitSVM(x_train, y_train), x_train, y_train, x_test)\n",
    "print(\"[SVM] Score\")\n",
    "acc(y_test,y_pred)"
   ]
  },
  {
   "cell_type": "code",
   "execution_count": 36,
   "metadata": {},
   "outputs": [
    {
     "name": "stdout",
     "output_type": "stream",
     "text": [
      "              precision    recall  f1-score   support\n",
      "\n",
      "         0.0       0.88      0.90      0.89       522\n",
      "         1.0       0.89      0.87      0.88       481\n",
      "\n",
      "    accuracy                           0.89      1003\n",
      "   macro avg       0.89      0.89      0.89      1003\n",
      "weighted avg       0.89      0.89      0.89      1003\n",
      "\n"
     ]
    }
   ],
   "source": [
    "print(classification_report(y_test, y_pred))"
   ]
  },
  {
   "cell_type": "code",
   "execution_count": 37,
   "metadata": {},
   "outputs": [
    {
     "data": {
      "image/png": "[encoded data removed]",
      "text/plain": [
       "<Figure size 1080x1080 with 2 Axes>"
      ]
     },
     "metadata": {},
     "output_type": "display_data"
    }
   ],
   "source": [
    "cm = confusion_matrix(y_test, y_pred)\n",
    "cm_df = pd.DataFrame(cm, index = np.unique(y_test), columns = np.unique(y_test))\n",
    "\n",
    "plt.figure(figsize=(15,15))\n",
    "sb.heatmap(cm_df, annot=True, annot_kws={\"size\": 12})\n",
    "plt.savefig('SVM.png')"
   ]
  },
  {
   "cell_type": "markdown",
   "metadata": {},
   "source": [
    "## 6.5. Random Forest"
   ]
  },
  {
   "cell_type": "code",
   "execution_count": 19,
   "metadata": {},
   "outputs": [
    {
     "name": "stdout",
     "output_type": "stream",
     "text": [
      "[RANDOM FOREST] Selecionando hiperparâmetros...\n",
      "[RANDOM FOREST] Treinando modelo...\n",
      "[RANDOM FOREST] Hiperparâmetros escolhidos para Radom Forest:  {'criterion': 'entropy', 'max_depth': 9, 'n_estimators': 146}\n",
      "[RANDOM FOREST] Testando modelo...\n"
     ]
    },
    {
     "data": {
      "text/plain": [
       "81.95413758723828"
      ]
     },
     "execution_count": 19,
     "metadata": {},
     "output_type": "execute_result"
    }
   ],
   "source": [
    "y_pred = predictRF(fitRF(x_train, y_train,'gini', 100, 5), x_train, y_train, x_test)\n",
    "acc(y_test, y_pred)"
   ]
  },
  {
   "cell_type": "code",
   "execution_count": 20,
   "metadata": {},
   "outputs": [
    {
     "name": "stdout",
     "output_type": "stream",
     "text": [
      "              precision    recall  f1-score   support\n",
      "\n",
      "         0.0       0.89      0.75      0.81       529\n",
      "         1.0       0.76      0.89      0.82       474\n",
      "\n",
      "    accuracy                           0.82      1003\n",
      "   macro avg       0.83      0.82      0.82      1003\n",
      "weighted avg       0.83      0.82      0.82      1003\n",
      "\n"
     ]
    }
   ],
   "source": [
    "print(classification_report(y_test, y_pred))"
   ]
  },
  {
   "cell_type": "code",
   "execution_count": 21,
   "metadata": {},
   "outputs": [
    {
     "data": {
      "image/png": "[encoded data removed]",
      "text/plain": [
       "<Figure size 1080x1080 with 2 Axes>"
      ]
     },
     "metadata": {},
     "output_type": "display_data"
    }
   ],
   "source": [
    "cm = confusion_matrix(y_test, y_pred)\n",
    "cm_df = pd.DataFrame(cm, index = np.unique(y_test), columns = np.unique(y_test))\n",
    "\n",
    "plt.figure(figsize=(15,15))\n",
    "sb.heatmap(cm_df, annot=True, annot_kws={\"size\": 12})\n",
    "plt.savefig('RF.png')"
   ]
  },
  {
   "cell_type": "markdown",
   "metadata": {},
   "source": [
    "## 6.6. KNN"
   ]
  },
  {
   "cell_type": "code",
   "execution_count": 16,
   "metadata": {},
   "outputs": [
    {
     "name": "stdout",
     "output_type": "stream",
     "text": [
      "[KNN] Treinando modelo...\n",
      "[KNN] Testando modelo...\n",
      "[KNN] Score K =  3\n",
      "              precision    recall  f1-score   support\n",
      "\n",
      "         0.0       0.62      0.89      0.73       529\n",
      "         1.0       0.77      0.39      0.51       474\n",
      "\n",
      "    accuracy                           0.65      1003\n",
      "   macro avg       0.69      0.64      0.62      1003\n",
      "weighted avg       0.69      0.65      0.63      1003\n",
      "\n",
      "[KNN] Treinando modelo...\n",
      "[KNN] Testando modelo...\n",
      "[KNN] Score K =  5\n",
      "              precision    recall  f1-score   support\n",
      "\n",
      "         0.0       0.59      0.95      0.73       529\n",
      "         1.0       0.81      0.26      0.39       474\n",
      "\n",
      "    accuracy                           0.62      1003\n",
      "   macro avg       0.70      0.60      0.56      1003\n",
      "weighted avg       0.69      0.62      0.57      1003\n",
      "\n",
      "[KNN] Treinando modelo...\n",
      "[KNN] Testando modelo...\n",
      "[KNN] Score K =  7\n",
      "              precision    recall  f1-score   support\n",
      "\n",
      "         0.0       0.57      0.96      0.72       529\n",
      "         1.0       0.82      0.19      0.31       474\n",
      "\n",
      "    accuracy                           0.60      1003\n",
      "   macro avg       0.70      0.58      0.51      1003\n",
      "weighted avg       0.69      0.60      0.52      1003\n",
      "\n",
      "[KNN] Treinando modelo...\n",
      "[KNN] Testando modelo...\n",
      "[KNN] Score K =  9\n",
      "              precision    recall  f1-score   support\n",
      "\n",
      "         0.0       0.55      0.98      0.71       529\n",
      "         1.0       0.82      0.12      0.22       474\n",
      "\n",
      "    accuracy                           0.57      1003\n",
      "   macro avg       0.69      0.55      0.46      1003\n",
      "weighted avg       0.68      0.57      0.47      1003\n",
      "\n",
      "[KNN] Treinando modelo...\n",
      "[KNN] Testando modelo...\n",
      "[KNN] Score K =  11\n",
      "              precision    recall  f1-score   support\n",
      "\n",
      "         0.0       0.54      0.98      0.70       529\n",
      "         1.0       0.77      0.08      0.14       474\n",
      "\n",
      "    accuracy                           0.55      1003\n",
      "   macro avg       0.66      0.53      0.42      1003\n",
      "weighted avg       0.65      0.55      0.44      1003\n",
      "\n"
     ]
    },
    {
     "data": {
      "image/png": "[encoded data removed]",
      "text/plain": [
       "<Figure size 1080x1080 with 2 Axes>"
      ]
     },
     "metadata": {},
     "output_type": "display_data"
    },
    {
     "data": {
      "image/png": "[encoded data removed]",
      "text/plain": [
       "<Figure size 1080x1080 with 2 Axes>"
      ]
     },
     "metadata": {},
     "output_type": "display_data"
    },
    {
     "data": {
      "image/png": "[encoded data removed]",
      "text/plain": [
       "<Figure size 1080x1080 with 2 Axes>"
      ]
     },
     "metadata": {},
     "output_type": "display_data"
    },
    {
     "data": {
      "image/png": "[encoded data removed]",
      "text/plain": [
       "<Figure size 1080x1080 with 2 Axes>"
      ]
     },
     "metadata": {},
     "output_type": "display_data"
    },
    {
     "data": {
      "image/png": "[encoded data removed]",
      "text/plain": [
       "<Figure size 1080x1080 with 2 Axes>"
      ]
     },
     "metadata": {},
     "output_type": "display_data"
    }
   ],
   "source": [
    "lista_k = [3,5,7,9,11]\n",
    "list_accs = []\n",
    "classification = []\n",
    "\n",
    "for k in lista_k:\n",
    "    y_pred = predictKNN(x_train, y_train, x_test, k, distance_euclidian)\n",
    "    print(\"[KNN] Score K = \", k)\n",
    "    #print(acc(y_test, y_pred))\n",
    "    list_accs.append(acc(y_test, y_pred))\n",
    "    print(classification_report(y_test, y_pred))\n",
    "    classification.append(classification_report(y_test, y_pred))\n",
    "    \n",
    "    cm = confusion_matrix(y_test, y_pred)\n",
    "    cm_df = pd.DataFrame(cm, index = np.unique(y_test), columns = np.unique(y_test))\n",
    "\n",
    "    plt.figure(figsize=(15,15))\n",
    "    sb.heatmap(cm_df, annot=True, annot_kws={\"size\": 12})\n",
    "    plt.savefig('KNN' + str(k) + '.png')"
   ]
  },
  {
   "cell_type": "code",
   "execution_count": null,
   "metadata": {},
   "outputs": [],
   "source": [
    "print(classification_report(y_test, y_pred))"
   ]
  },
  {
   "cell_type": "code",
   "execution_count": null,
   "metadata": {},
   "outputs": [],
   "source": [
    "cm = confusion_matrix(y_test, y_pred)\n",
    "cm_df = pd.DataFrame(cm, index = np.unique(y_test), columns = np.unique(y_test))\n",
    "\n",
    "plt.figure(figsize=(15,15))\n",
    "sb.heatmap(cm_df, annot=True, annot_kws={\"size\": 12})\n",
    "plt.savefig('KNN.png')"
   ]
  },
  {
   "cell_type": "markdown",
   "metadata": {},
   "source": [
    "# 7. Avaliação de Resultados e Conclusão"
   ]
  }
 ],
 "metadata": {
  "kernelspec": {
   "display_name": "Python 3",
   "language": "python",
   "name": "python3"
  },
  "language_info": {
   "codemirror_mode": {
    "name": "ipython",
    "version": 3
   },
   "file_extension": ".py",
   "mimetype": "text/x-python",
   "name": "python",
   "nbconvert_exporter": "python",
   "pygments_lexer": "ipython3",
   "version": "3.6.8"
  }
 },
 "nbformat": 4,
 "nbformat_minor": 2
}
