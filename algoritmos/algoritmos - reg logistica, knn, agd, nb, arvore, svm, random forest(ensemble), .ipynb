{
 "cells": [
  {
   "cell_type": "code",
   "execution_count": 3,
   "metadata": {},
   "outputs": [],
   "source": [
    "import numpy as np\n",
    "import pandas as pd\n",
    "import matplotlib.pyplot as plt\n",
    "from math import log, pi, sqrt\n",
    "from scipy.stats import multivariate_normal\n",
    "from sklearn.tree import DecisionTreeClassifier\n",
    "import warnings\n",
    "warnings.filterwarnings(\"ignore\")\n",
    "from sklearn.tree import export_graphviz\n",
    "from sklearn.externals.six import StringIO  \n",
    "from IPython.display import Image  \n",
    "#import pydotplus -> baixar esse cara\n",
    "from sklearn import datasets\n",
    "from sklearn import svm\n",
    "from sklearn.model_selection import GridSearchCV\n",
    "\n",
    "np.random.seed(12345)"
   ]
  },
  {
   "cell_type": "markdown",
   "metadata": {},
   "source": [
    "# Regressão Logística"
   ]
  },
  {
   "cell_type": "code",
   "execution_count": 111,
   "metadata": {},
   "outputs": [],
   "source": [
    "def yPred(w, x):\n",
    "    yPred = 1/(1+np.exp(-x @ w))\n",
    "    return yPred\n",
    "\n",
    "def regLogGD(x, y, n_epochs, alpha):\n",
    "    erroQM = []\n",
    "    wPrev = np.zeros(x.shape[1]+1)\n",
    "    aux = np.ones((x.shape[0], 1))\n",
    "    x = np.hstack((aux, x))\n",
    "    \n",
    "    for epochs in range (0,n_epochs):\n",
    "        suma = 0\n",
    "        sumErro = 0\n",
    "        for i in range(0, x.shape[0]):\n",
    "            sumErro = sumErro + (y[i]-yPred(wPrev,x[i]))**2\n",
    "            suma = suma +  (y[i]-yPred(wPrev,x[i]))*np.transpose(x[i])\n",
    "        w = np.transpose(wPrev) + alpha*(1/x.shape[0])*suma\n",
    "        erroEp = ((1/(2*x.shape[0]))*sumErro)\n",
    "        erroQM.append(erroEp)\n",
    "        wPrev = w\n",
    "    return wPrev, erroQM\n",
    "\n",
    "def predictLR(w, x):\n",
    "    yPredito = []\n",
    "    aux = np.ones((x.shape[0], 1))\n",
    "    x = np.hstack((aux, x))\n",
    "    for i in x:\n",
    "        if(yPred(w,i)>=0.5):\n",
    "            yPredito.append(1)\n",
    "        else:\n",
    "            yPredito.append(0)\n",
    "    return yPredito"
   ]
  },
  {
   "cell_type": "code",
   "execution_count": 113,
   "metadata": {},
   "outputs": [],
   "source": [
    "def accuracy(y, y_pred):\n",
    "    tot = [1 for x,z in zip(y_test,results) if x == z]\n",
    "    return (np.sum(np.array(tot))/len(y_test))*100"
   ]
  },
  {
   "cell_type": "code",
   "execution_count": 124,
   "metadata": {},
   "outputs": [],
   "source": [
    "data = pd.read_csv(\"ex1.csv\", header = None).values\n",
    "lista = [[1,1],[1,0],[0,1],[2,4],[0.5,3],[0,0]]\n",
    "X = data[:,0:-1]\n",
    "Y = data[:,-1]\n",
    "from sklearn.model_selection import train_test_split\n",
    "x_train, x_test, y_train, y_test = train_test_split(X, Y, test_size = 0.25)"
   ]
  },
  {
   "cell_type": "code",
   "execution_count": 128,
   "metadata": {},
   "outputs": [
    {
     "name": "stdout",
     "output_type": "stream",
     "text": [
      "[1 1 1 1 1 1 1 1 1 1 1 1 1 1 1 1 1 1 1 1 1 1 1 1 1]\n",
      "[0. 0. 1. 0. 1. 1. 0. 0. 1. 1. 0. 1. 0. 0. 1. 1. 1. 0. 1. 1. 1. 0. 0. 0.\n",
      " 1.]\n"
     ]
    }
   ],
   "source": [
    "w, erro = regLogGD(x_train, y_train, 1000, 0.001)\n",
    "x_train.shape\n",
    "results = predictLR(w, x_test)\n",
    "print(np.array(results))\n",
    "print(y_test)"
   ]
  },
  {
   "cell_type": "code",
   "execution_count": 129,
   "metadata": {},
   "outputs": [
    {
     "data": {
      "text/plain": [
       "0.52"
      ]
     },
     "execution_count": 129,
     "metadata": {},
     "output_type": "execute_result"
    }
   ],
   "source": [
    "tot = [1 for x,z in zip(y_test,results) if x == z]\n",
    "(np.sum(np.array(tot))/len(y_test))\n"
   ]
  },
  {
   "cell_type": "code",
   "execution_count": 130,
   "metadata": {},
   "outputs": [
    {
     "data": {
      "text/plain": [
       "[<matplotlib.lines.Line2D at 0x25d9b763f28>]"
      ]
     },
     "execution_count": 130,
     "metadata": {},
     "output_type": "execute_result"
    },
    {
     "data": {
      "image/png": "[encoded data removed]",
      "text/plain": [
       "<Figure size 432x288 with 1 Axes>"
      ]
     },
     "metadata": {
      "needs_background": "light"
     },
     "output_type": "display_data"
    }
   ],
   "source": [
    "plt.plot(erro)"
   ]
  },
  {
   "cell_type": "markdown",
   "metadata": {},
   "source": [
    "# Análise Discriminante Gaussiano (AGD)"
   ]
  },
  {
   "cell_type": "code",
   "execution_count": 1,
   "metadata": {},
   "outputs": [],
   "source": [
    "def fit(x, y):\n",
    "    classes, ocorrencs = np.unique(y, return_counts=True) # pegando as classes e ocorrencias\n",
    "    numClasses = len(classes) # numero de classes\n",
    "    n = len(y) # numero de linhas do dataset\n",
    "    numFeatures = x.shape[1] # numero de colunas do dataset\n",
    "    \n",
    "    # Probabilidade das classes será proporcional a frequencia dessa classe no dataset\n",
    "    probabilidadeClasses = dict(zip(classes, ocorrencs))\n",
    "    for key in probabilidadeClasses:\n",
    "        probabilidadeClasses[key] = probabilidadeClasses[key] / n\n",
    "    \n",
    "    media = np.zeros((numFeatures, numClasses)) # criando a lista da media das features por classe\n",
    "    covar = np.zeros((numFeatures, numFeatures, numClasses)) # criando a lista de matrizes de correlação das features para cada classe\n",
    "\n",
    "    for classe in classes:\n",
    "        xk = x[y == classe] # pega as linhas em que classe é igual ao y -> que aí eu acesso essas linhas do x\n",
    "        classe = int(classe)\n",
    "        media[:, int(classe)] = np.mean(xk, axis=0)\n",
    "        xi_mean = xk - media[:, int(classe)]\n",
    "        covar[:, :, int(classe)] = (np.transpose(xi_mean) @ xi_mean)/len(xk)\n",
    "        covar[:, :, int(classe)] += np.eye(numFeatures) * np.mean(np.diag(covar[:,:,classe]))  * 10 ** -6 # ver se assim ta certo, pq o do cesar ele botou uns numeros que eu nao entendi\n",
    "    return {'media': media, 'covar': covar, 'classes': classes, 'numRows': n, 'numClasses': numClasses, 'numFeatures': numFeatures, 'probabilidadeClasses': probabilidadeClasses }\n",
    "        \n",
    "def predict(model, row):\n",
    "    probabilits = np.zeros(model['numClasses'])\n",
    "    for classe in model['classes']:\n",
    "        classe = int(classe)\n",
    "        fator1 = 1/(sqrt(np.linalg.det(model['covar'][:, :, classe])) * ((2*pi)**(model['numFeatures']/2)))\n",
    "        \n",
    "        inversa = np.linalg.inv(model['covar'][:, :, classe])\n",
    "        difXMedia = row - model['media'][:, classe]\n",
    "        z = (-0.5) * (np.transpose(difXMedia) @ inversa @ difXMedia) # valor que fica dentro do exp\n",
    "        probabilits[classe] = fator1 * exp(z)\n",
    "    return model['classes'][np.argmax(probabilits)]\n",
    "    \n",
    "    \n",
    "# Função para um vetor de testes e então chama o predict\n",
    "def getPredict(model, x_test):\n",
    "    predicted = np.array([predict(model, row) for row in x_test])\n",
    "    return predicted"
   ]
  },
  {
   "cell_type": "markdown",
   "metadata": {},
   "source": [
    "# KNN"
   ]
  },
  {
   "cell_type": "code",
   "execution_count": 14,
   "metadata": {},
   "outputs": [],
   "source": [
    "# Funções que realizam os cálculos de distância entre dois registros\n",
    "def distance_euclidian(x1, x2):\n",
    "    return sqrt(np.sum([abs(i - j) for i, j in zip(x1,x2)]))\n",
    "\n",
    "def distance_manhattan(x1, x2):\n",
    "    return np.sum([abs(i-j) for i, j in zip(x1,x2)])\n",
    "\n",
    "def getClasses(y):\n",
    "    return pd.array(data[:,-1]).unique()\n",
    "\n",
    "# Função responsável por predizer a classe de um único registro\n",
    "def predict1KNN(x, y, x_teste, k, function):\n",
    "    classes = getClasses(y)\n",
    "    results = []\n",
    "    for i in range(0, x.shape[0]):\n",
    "        results.append([function(x[i], x_teste), y[i]])\n",
    "    results = sorted(results)\n",
    "    dictClasses = {}\n",
    "    for i in classes:\n",
    "        dictClasses[i] = 0\n",
    "    for i in range(0, k):\n",
    "        for row in dictClasses.keys():\n",
    "            if results[i][1] == row:\n",
    "                dictClasses[row] += 1\n",
    "    \n",
    "    # retornar a chave que tem maior contagem\n",
    "    minimus = [results[i][1] for i in range (0,k)]\n",
    "    \n",
    "    contClasses = [(x, minimus.count(x)) for x in set(minimus)]\n",
    "\n",
    "    maximo = np.argmax(contClasses, axis=0)\n",
    "    \n",
    "    return contClasses[maximo[1]][0]\n",
    "\n",
    "# Função utilizada para predizer as classes de um conjunto de registros\n",
    "def predictKNN(x, y, x_test, k, function):\n",
    "    yPredito = [predict1KNN(x, y, row, k, function) for row in x_test]\n",
    "    return yPredito"
   ]
  },
  {
   "cell_type": "code",
   "execution_count": 15,
   "metadata": {},
   "outputs": [],
   "source": [
    "data = pd.read_csv(\"ex1.csv\", header = None).values\n",
    "lista = [[1,1],[1,0],[0,1],[2,4],[0.5,3],[0,0]]\n",
    "X = data[:,0:-1]\n",
    "Y = data[:,-1]\n",
    "from sklearn.model_selection import train_test_split\n",
    "x_train, x_test, y_train, y_test = train_test_split(X, Y, test_size = 0.25)"
   ]
  },
  {
   "cell_type": "code",
   "execution_count": 16,
   "metadata": {},
   "outputs": [],
   "source": [
    "results = predictKNN(x_train, y_train, x_test, 5, distance_euclidian)"
   ]
  },
  {
   "cell_type": "code",
   "execution_count": 17,
   "metadata": {},
   "outputs": [
    {
     "data": {
      "text/plain": [
       "0.84"
      ]
     },
     "execution_count": 17,
     "metadata": {},
     "output_type": "execute_result"
    }
   ],
   "source": [
    "tot = [1 for x,z in zip(y_test,results) if x == z]\n",
    "(np.sum(np.array(tot))/len(y_test))"
   ]
  },
  {
   "cell_type": "markdown",
   "metadata": {},
   "source": [
    "# Árvore de Decisão"
   ]
  },
  {
   "cell_type": "code",
   "execution_count": 11,
   "metadata": {},
   "outputs": [],
   "source": [
    "def calc_entropy(p):\n",
    "    return - p * np.log2(p + 10 ** -6) - (1-p) * np.log2((1-p) + 10 ** -6)\n",
    "\n",
    "def calc_gini(p):\n",
    "    return 1 - p ** 2 - (1-p) ** 2"
   ]
  },
  {
   "cell_type": "code",
   "execution_count": 12,
   "metadata": {},
   "outputs": [
    {
     "name": "stdout",
     "output_type": "stream",
     "text": [
      "Número de padrões de treinamento: 106\n",
      "Número de padrões de teste: 44\n"
     ]
    }
   ],
   "source": [
    "x, y = datasets.load_iris(return_X_y=True)\n",
    "x = x[:,2:4]\n",
    "np.random.seed(12345)\n",
    "\n",
    "number_train = int(np.ceil(0.7*(x.shape[0])))\n",
    "random_index = np.random.permutation(x.shape[0])\n",
    "train_index = random_index[:number_train+1]\n",
    "test_index = random_index[number_train+1:]\n",
    "\n",
    "x_train = x[train_index]\n",
    "x_test = x[test_index]\n",
    "y_train = y[train_index]\n",
    "y_test = y[test_index]\n",
    "\n",
    "print(\"Número de padrões de treinamento: %d\" % len(y_train))\n",
    "print(\"Número de padrões de teste: %d\" % len(y_test))"
   ]
  },
  {
   "cell_type": "code",
   "execution_count": 15,
   "metadata": {},
   "outputs": [
    {
     "data": {
      "text/html": [
       "<div>\n",
       "<style scoped>\n",
       "    .dataframe tbody tr th:only-of-type {\n",
       "        vertical-align: middle;\n",
       "    }\n",
       "\n",
       "    .dataframe tbody tr th {\n",
       "        vertical-align: top;\n",
       "    }\n",
       "\n",
       "    .dataframe thead th {\n",
       "        text-align: right;\n",
       "    }\n",
       "</style>\n",
       "<table border=\"1\" class=\"dataframe\">\n",
       "  <thead>\n",
       "    <tr style=\"text-align: right;\">\n",
       "      <th></th>\n",
       "      <th>Brilho</th>\n",
       "      <th>Tamanho</th>\n",
       "      <th>Classe</th>\n",
       "    </tr>\n",
       "  </thead>\n",
       "  <tbody>\n",
       "    <tr>\n",
       "      <th>0</th>\n",
       "      <td>1.2</td>\n",
       "      <td>23.0</td>\n",
       "      <td>0.0</td>\n",
       "    </tr>\n",
       "    <tr>\n",
       "      <th>1</th>\n",
       "      <td>1.1</td>\n",
       "      <td>30.0</td>\n",
       "      <td>0.0</td>\n",
       "    </tr>\n",
       "    <tr>\n",
       "      <th>2</th>\n",
       "      <td>0.9</td>\n",
       "      <td>36.0</td>\n",
       "      <td>0.0</td>\n",
       "    </tr>\n",
       "    <tr>\n",
       "      <th>3</th>\n",
       "      <td>0.8</td>\n",
       "      <td>45.0</td>\n",
       "      <td>0.0</td>\n",
       "    </tr>\n",
       "    <tr>\n",
       "      <th>4</th>\n",
       "      <td>0.8</td>\n",
       "      <td>38.0</td>\n",
       "      <td>0.0</td>\n",
       "    </tr>\n",
       "    <tr>\n",
       "      <th>5</th>\n",
       "      <td>0.9</td>\n",
       "      <td>15.0</td>\n",
       "      <td>1.0</td>\n",
       "    </tr>\n",
       "    <tr>\n",
       "      <th>6</th>\n",
       "      <td>0.8</td>\n",
       "      <td>20.0</td>\n",
       "      <td>1.0</td>\n",
       "    </tr>\n",
       "    <tr>\n",
       "      <th>7</th>\n",
       "      <td>0.8</td>\n",
       "      <td>25.0</td>\n",
       "      <td>1.0</td>\n",
       "    </tr>\n",
       "    <tr>\n",
       "      <th>8</th>\n",
       "      <td>0.7</td>\n",
       "      <td>25.0</td>\n",
       "      <td>1.0</td>\n",
       "    </tr>\n",
       "  </tbody>\n",
       "</table>\n",
       "</div>"
      ],
      "text/plain": [
       "   Brilho  Tamanho  Classe\n",
       "0     1.2     23.0     0.0\n",
       "1     1.1     30.0     0.0\n",
       "2     0.9     36.0     0.0\n",
       "3     0.8     45.0     0.0\n",
       "4     0.8     38.0     0.0\n",
       "5     0.9     15.0     1.0\n",
       "6     0.8     20.0     1.0\n",
       "7     0.8     25.0     1.0\n",
       "8     0.7     25.0     1.0"
      ]
     },
     "metadata": {},
     "output_type": "display_data"
    }
   ],
   "source": [
    "data_table = pd.DataFrame({'Brilho': [1.2, 1.1, 0.9, 0.8, 0.8, 0.9, 0.8, 0.8, 0.7],\n",
    "                           'Tamanho': [23, 30, 36, 45, 38, 15, 20, 25, 25],\n",
    "                           'Classe': [0, 0, 0, 0, 0, 1, 1, 1, 1]},\n",
    "                   dtype='float')\n",
    "\n",
    "display(data_table)\n",
    "x = data_table.drop('Classe', axis=1).values\n",
    "y = data_table['Classe'].values.astype(\"int\")\n",
    "\n",
    "labels = [0, 1]\n",
    "label_names = ['Salmão', 'Seabass']\n",
    "colors = ['green', 'blue']"
   ]
  },
  {
   "cell_type": "code",
   "execution_count": 16,
   "metadata": {},
   "outputs": [
    {
     "data": {
      "text/plain": [
       "array([0, 0, 0, 0, 0, 1, 1, 1, 1])"
      ]
     },
     "execution_count": 16,
     "metadata": {},
     "output_type": "execute_result"
    }
   ],
   "source": [
    "tree_classifier = DecisionTreeClassifier()\n",
    "tree_classifier.fit(x, y)\n",
    "\n",
    "pred = tree_classifier.predict(x)\n",
    "pred"
   ]
  },
  {
   "cell_type": "code",
   "execution_count": 19,
   "metadata": {},
   "outputs": [
    {
     "ename": "NameError",
     "evalue": "name 'pydotplus' is not defined",
     "output_type": "error",
     "traceback": [
      "\u001b[0;31m---------------------------------------------------------------------------\u001b[0m",
      "\u001b[0;31mNameError\u001b[0m                                 Traceback (most recent call last)",
      "\u001b[0;32m<ipython-input-19-2464e8122c42>\u001b[0m in \u001b[0;36m<module>\u001b[0;34m\u001b[0m\n\u001b[1;32m      3\u001b[0m                 \u001b[0mfilled\u001b[0m\u001b[0;34m=\u001b[0m\u001b[0;32mTrue\u001b[0m\u001b[0;34m,\u001b[0m \u001b[0mrounded\u001b[0m\u001b[0;34m=\u001b[0m\u001b[0;32mTrue\u001b[0m\u001b[0;34m,\u001b[0m \u001b[0mfeature_names\u001b[0m\u001b[0;34m=\u001b[0m\u001b[0;34m[\u001b[0m\u001b[0;34m'Brilho'\u001b[0m\u001b[0;34m,\u001b[0m \u001b[0;34m'Tamanho'\u001b[0m\u001b[0;34m]\u001b[0m\u001b[0;34m,\u001b[0m\u001b[0;34m\u001b[0m\u001b[0;34m\u001b[0m\u001b[0m\n\u001b[1;32m      4\u001b[0m                 special_characters=True, class_names=[str(l) for l in label_names])\n\u001b[0;32m----> 5\u001b[0;31m \u001b[0mgraph\u001b[0m \u001b[0;34m=\u001b[0m \u001b[0mpydotplus\u001b[0m\u001b[0;34m.\u001b[0m\u001b[0mgraph_from_dot_data\u001b[0m\u001b[0;34m(\u001b[0m\u001b[0mdot_data\u001b[0m\u001b[0;34m.\u001b[0m\u001b[0mgetvalue\u001b[0m\u001b[0;34m(\u001b[0m\u001b[0;34m)\u001b[0m\u001b[0;34m)\u001b[0m\u001b[0;34m\u001b[0m\u001b[0;34m\u001b[0m\u001b[0m\n\u001b[0m\u001b[1;32m      6\u001b[0m \u001b[0mgraph\u001b[0m\u001b[0;34m.\u001b[0m\u001b[0mwrite_png\u001b[0m\u001b[0;34m(\u001b[0m\u001b[0;34m'tree_salmao_seabass.png'\u001b[0m\u001b[0;34m)\u001b[0m\u001b[0;34m\u001b[0m\u001b[0;34m\u001b[0m\u001b[0m\n\u001b[1;32m      7\u001b[0m \u001b[0mImage\u001b[0m\u001b[0;34m(\u001b[0m\u001b[0mgraph\u001b[0m\u001b[0;34m.\u001b[0m\u001b[0mcreate_png\u001b[0m\u001b[0;34m(\u001b[0m\u001b[0;34m)\u001b[0m\u001b[0;34m)\u001b[0m\u001b[0;34m\u001b[0m\u001b[0;34m\u001b[0m\u001b[0m\n",
      "\u001b[0;31mNameError\u001b[0m: name 'pydotplus' is not defined"
     ]
    }
   ],
   "source": [
    "dot_data = StringIO()\n",
    "export_graphviz(tree_classifier, out_file=dot_data,  \n",
    "                filled=True, rounded=True, feature_names=['Brilho', 'Tamanho'],\n",
    "                special_characters=True, class_names=[str(l) for l in label_names])\n",
    "graph = pydotplus.graph_from_dot_data(dot_data.getvalue())  \n",
    "graph.write_png('tree_salmao_seabass.png')\n",
    "Image(graph.create_png())"
   ]
  },
  {
   "cell_type": "markdown",
   "metadata": {},
   "source": [
    "# SVM"
   ]
  },
  {
   "cell_type": "code",
   "execution_count": 24,
   "metadata": {},
   "outputs": [],
   "source": [
    "train_ratio = 0.8\n",
    "validation_ratio = 0.2\n",
    "x, y = datasets.make_circles(n_samples=300, noise=0.15, factor=0.5, random_state=12345)"
   ]
  },
  {
   "cell_type": "code",
   "execution_count": 25,
   "metadata": {},
   "outputs": [
    {
     "name": "stdout",
     "output_type": "stream",
     "text": [
      "Melhores hiperparâmetros:\n",
      "{'C': 0.5, 'gamma': 2.0, 'kernel': 'rbf'}\n",
      "33 vetores suportes de 106 dados de treinamento (31.13% dos exemplos).\n"
     ]
    }
   ],
   "source": [
    "model = svm.SVC(gamma='auto')\n",
    "param_grid = [{'kernel': ['rbf'], 'C': 2 ** np.arange(-5.0, 16.0, 2),\n",
    "                                  'gamma': 2 ** np.arange(-15.0, 4.0, 2)},\n",
    "              {'kernel': ['poly'], 'C': 2 ** np.arange(-5.0, 16.0, 2),\n",
    "                                   'degree': np.arange(2, 6)},\n",
    "              {'kernel': ['linear'], 'C': 2 ** np.arange(-5.0, 16.0, 2)}]\n",
    "\n",
    "model = GridSearchCV(model, param_grid, cv=3, n_jobs=-1)\n",
    "\n",
    "model.fit(x_train, y_train) \n",
    "\n",
    "support_vectors = model.best_estimator_.support_vectors_\n",
    "\n",
    "print(\"Melhores hiperparâmetros:\")\n",
    "print(model.best_params_)\n",
    "print(\"%d vetores suportes de %d dados de treinamento (%.2f%% dos exemplos).\" \\\n",
    "      % (support_vectors.shape[0], x_train.shape[0], 100*support_vectors.shape[0]/x_train.shape[0]))"
   ]
  },
  {
   "cell_type": "markdown",
   "metadata": {},
   "source": [
    "# Random Forest (Ensemble)"
   ]
  },
  {
   "cell_type": "code",
   "execution_count": null,
   "metadata": {},
   "outputs": [],
   "source": [
    "from sklearn.ensemble import RandomForestClassifier\n",
    "\n",
    "# kf = KFold(n_splits = 5, shuffle = True)\n",
    "# ac = [];\n",
    "# x = [1,5,10]\n",
    "# #for i in x:\n",
    "#     # Na linha abaixo, os parâmetros que passei para meu classificador foram, respectivamente:\n",
    "#     # n_estimators (número de árvores), critério para avaliar a qualidade do split, máximo de colunas consideradas\n",
    "#     # em cada split (raiz quadrada do número de colunas, que dá aprox. 7 features), profund. máx das árvores (10)\n",
    "#     clf = RandomForestClassifier(i,\"gini\",7,10)\n",
    "#     for result in kf.split(df):\n",
    "#         train = df.iloc[result[0]]\n",
    "#         test =  df.iloc[result[1]]\n",
    "#         target_train = train[61]\n",
    "#         target_test = test[61]\n",
    "#         train = train.iloc[:, :59]\n",
    "#         test = test.iloc[:, :59]\n",
    "#         clf.fit(train, target_train)\n",
    "#         target_pred = clf.predict(test)\n",
    "#         ac.append(accuracy_score(target_test, target_pred))\n",
    "#     print(\"Árvores: %d\" %i)\n",
    "#     print(\"Scores: \")\n",
    "#     print(ac)\n",
    "#     print(\"Acurácia: %f \" %(mean(ac)))\n",
    "#     print(\"\\n\")\n",
    "#     ac = []\n",
    "\n",
    "\n",
    "\n",
    "num_arvores = 10\n",
    "max_columns = 3\n",
    "max_profundidade = 10\n",
    "clf = RandomForestClassifier(num_arvores,\"gini\",max_columns,max_profundidade)\n",
    "clf.fit(train, target_train)\n",
    "clf.predict(test)"
   ]
  }
 ],
 "metadata": {
  "kernelspec": {
   "display_name": "Python 3",
   "language": "python",
   "name": "python3"
  },
  "language_info": {
   "codemirror_mode": {
    "name": "ipython",
    "version": 3
   },
   "file_extension": ".py",
   "mimetype": "text/x-python",
   "name": "python",
   "nbconvert_exporter": "python",
   "pygments_lexer": "ipython3",
   "version": "3.7.3"
  }
 },
 "nbformat": 4,
 "nbformat_minor": 2
}
